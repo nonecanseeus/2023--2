{
  "nbformat": 4,
  "nbformat_minor": 0,
  "metadata": {
    "kernelspec": {
      "display_name": "Python 3",
      "language": "python",
      "name": "python3"
    },
    "language_info": {
      "codemirror_mode": {
        "name": "ipython",
        "version": 3
      },
      "file_extension": ".py",
      "mimetype": "text/x-python",
      "name": "python",
      "nbconvert_exporter": "python",
      "pygments_lexer": "ipython3",
      "version": "3.7.1"
    },
    "colab": {
      "provenance": [],
      "include_colab_link": true
    }
  },
  "cells": [
    {
      "cell_type": "markdown",
      "metadata": {
        "id": "view-in-github",
        "colab_type": "text"
      },
      "source": [
        "<a href=\"https://colab.research.google.com/github/nonecanseeus/2023--2/blob/main/1027%20syntax.ipynb\" target=\"_parent\"><img src=\"https://colab.research.google.com/assets/colab-badge.svg\" alt=\"Open In Colab\"/></a>"
      ]
    },
    {
      "cell_type": "code",
      "metadata": {
        "id": "Fu2mzgrqSLAU",
        "outputId": "283876b5-0fc9-4961-d92d-d242b3c222de"
      },
      "source": [
        "a = [1, 2, 3, 4]\n",
        "for i in a:\n",
        "    print(i)"
      ],
      "execution_count": null,
      "outputs": [
        {
          "output_type": "stream",
          "text": [
            "1\n",
            "2\n",
            "3\n",
            "4\n"
          ],
          "name": "stdout"
        }
      ]
    },
    {
      "cell_type": "markdown",
      "source": [
        "for와 in은 무조건 왕 ㅑ함. a는 리스트이므로 리스트이 첫 항목부터 i에 넣고 끝까지 돌리면 됨.\n",
        "-> print함수가 실행된 것은 4번."
      ],
      "metadata": {
        "id": "Z-TkFk1vI7Y-"
      }
    },
    {
      "cell_type": "code",
      "metadata": {
        "id": "XSJxLJVCSLAW",
        "outputId": "9e90a9a1-fcfd-44dd-95b6-049023303d0b",
        "colab": {
          "base_uri": "https://localhost:8080/"
        }
      },
      "source": [
        "a = [1, 2, 3, 4]\n",
        "for i in range(len(a)):\n",
        "    print(a[i])"
      ],
      "execution_count": null,
      "outputs": [
        {
          "output_type": "stream",
          "name": "stdout",
          "text": [
            "1\n",
            "2\n",
            "3\n",
            "4\n"
          ]
        }
      ]
    },
    {
      "cell_type": "markdown",
      "source": [
        "range는 index를 내가 원하는 범위만큼 뽑아낸다\n",
        "/ range부터는 무슨 개소린지 하나도 ㅁ르겠는데 ㅅㅂ 저집에가야된다고요"
      ],
      "metadata": {
        "id": "cwj797aaKVxl"
      }
    },
    {
      "cell_type": "code",
      "metadata": {
        "id": "VTfxVRdgSLAW",
        "outputId": "40d610ff-0f1b-442a-da40-384972a15491",
        "colab": {
          "base_uri": "https://localhost:8080/"
        }
      },
      "source": [
        "a = ['red', 'green', 'blue', 'purple']\n",
        "for i in a:\n",
        "    print(i)"
      ],
      "execution_count": null,
      "outputs": [
        {
          "output_type": "stream",
          "name": "stdout",
          "text": [
            "red\n",
            "green\n",
            "blue\n",
            "purple\n"
          ]
        }
      ]
    },
    {
      "cell_type": "code",
      "metadata": {
        "id": "Vc-7pW85SLAW",
        "outputId": "fbce0fb1-8d1b-4067-e499-916837cac81a",
        "colab": {
          "base_uri": "https://localhost:8080/"
        }
      },
      "source": [
        "a = ['red', 'green', 'blue', 'purple']\n",
        "for i in range(len(a)):\n",
        "    print(a[i])"
      ],
      "execution_count": null,
      "outputs": [
        {
          "output_type": "stream",
          "name": "stdout",
          "text": [
            "red\n",
            "green\n",
            "blue\n",
            "purple\n"
          ]
        }
      ]
    },
    {
      "cell_type": "code",
      "metadata": {
        "id": "dD-ephD3SLAX",
        "outputId": "34c2413c-cb4d-41ed-e0c7-be5096627f32",
        "colab": {
          "base_uri": "https://localhost:8080/"
        }
      },
      "source": [
        "a = 0\n",
        "if a == 0:\n",
        "    print(a)\n",
        "else:\n",
        "    print(a+1)"
      ],
      "execution_count": null,
      "outputs": [
        {
          "output_type": "stream",
          "name": "stdout",
          "text": [
            "0\n"
          ]
        }
      ]
    },
    {
      "cell_type": "code",
      "metadata": {
        "id": "M0AZaDMvSLAY",
        "outputId": "49201936-559c-4062-c86a-a6538c4c7b0b",
        "colab": {
          "base_uri": "https://localhost:8080/"
        }
      },
      "source": [
        "for i in range(1, 3):\n",
        "    for j in range(3, 5):\n",
        "        print(i*j)"
      ],
      "execution_count": null,
      "outputs": [
        {
          "output_type": "stream",
          "name": "stdout",
          "text": [
            "3\n",
            "4\n",
            "6\n",
            "8\n"
          ]
        }
      ]
    },
    {
      "cell_type": "markdown",
      "source": [
        "print가 되는 건 4번이 돌아간다\n",
        "range (1, 3) -> 1, 2가 들어가는 듯"
      ],
      "metadata": {
        "id": "ZRiTDRxJLyBH"
      }
    },
    {
      "cell_type": "code",
      "metadata": {
        "id": "ZPpZmVIHSLAY",
        "outputId": "cb8b1835-d290-44de-b37f-b31090e17778",
        "colab": {
          "base_uri": "https://localhost:8080/"
        }
      },
      "source": [
        "for i in range(1, 3):\n",
        "    for j in range(3, 5):\n",
        "        if j >=4:\n",
        "            print(i*j)"
      ],
      "execution_count": null,
      "outputs": [
        {
          "output_type": "stream",
          "name": "stdout",
          "text": [
            "4\n",
            "8\n"
          ]
        }
      ]
    },
    {
      "cell_type": "markdown",
      "source": [
        "j4일때만 실행되니까 프린트 2번만 됨"
      ],
      "metadata": {
        "id": "2jML0oTuMFTf"
      }
    },
    {
      "cell_type": "code",
      "metadata": {
        "id": "JQXk5vi0SLAY",
        "outputId": "cd3306f3-6d6d-446e-dd4a-f7f4e11dd967"
      },
      "source": [
        "a = [1, 2, 3, 4]\n",
        "b = [i for i in a if i >=2]\n",
        "b"
      ],
      "execution_count": null,
      "outputs": [
        {
          "output_type": "execute_result",
          "data": {
            "text/plain": [
              "[2, 3, 4]"
            ]
          },
          "metadata": {
            "tags": []
          },
          "execution_count": 12
        }
      ]
    },
    {
      "cell_type": "markdown",
      "source": [
        "for -> in을 먼저 봐라. a에서 4번 먼저 돌아가고 나서 2 이상인 것만으로 리스트를 만들어라."
      ],
      "metadata": {
        "id": "M0vnjh_dMS1N"
      }
    },
    {
      "cell_type": "code",
      "metadata": {
        "id": "MDmBGZ3LSLAZ",
        "outputId": "f30444af-1230-4495-af5f-c7ce3d31353d",
        "colab": {
          "base_uri": "https://localhost:8080/"
        }
      },
      "source": [
        "a = ['red', 'green', 'blue', 'purple']\n",
        "b = [i for i in a if len(i) >=4]\n",
        "b"
      ],
      "execution_count": null,
      "outputs": [
        {
          "output_type": "execute_result",
          "data": {
            "text/plain": [
              "['green', 'blue', 'purple']"
            ]
          },
          "metadata": {},
          "execution_count": 10
        }
      ]
    },
    {
      "cell_type": "code",
      "source": [
        "a = ['red', 'green', 'blue', 'purple']\n",
        "b = [1, 2, 3, 4]\n",
        "c = {a[i]:b[i] for i in range(4)}\n",
        "c"
      ],
      "metadata": {
        "id": "Z6JMoDOHu48B",
        "outputId": "d3617dd5-d5a2-4531-fdc3-7d89b914334a",
        "colab": {
          "base_uri": "https://localhost:8080/"
        }
      },
      "execution_count": null,
      "outputs": [
        {
          "output_type": "execute_result",
          "data": {
            "text/plain": [
              "{'red': 1, 'green': 2, 'blue': 3, 'purple': 4}"
            ]
          },
          "metadata": {},
          "execution_count": 11
        }
      ]
    }
  ]
}