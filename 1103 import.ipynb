{
  "nbformat": 4,
  "nbformat_minor": 0,
  "metadata": {
    "colab": {
      "name": "import.ipynb",
      "provenance": [],
      "include_colab_link": true
    },
    "kernelspec": {
      "name": "python3",
      "display_name": "Python 3"
    },
    "language_info": {
      "name": "python"
    }
  },
  "cells": [
    {
      "cell_type": "markdown",
      "metadata": {
        "id": "view-in-github",
        "colab_type": "text"
      },
      "source": [
        "<a href=\"https://colab.research.google.com/github/nonecanseeus/2023--2/blob/main/1103%20import.ipynb\" target=\"_parent\"><img src=\"https://colab.research.google.com/assets/colab-badge.svg\" alt=\"Open In Colab\"/></a>"
      ]
    },
    {
      "cell_type": "markdown",
      "source": [
        "fucntion은 grouping을 해서 용도 별로 모아놓음. = library(lib) = 특수 목적의 function들의 집합.\n",
        "/ import numpy as np -> np로 쓰면 됨\n",
        "/ . = grouping을 한 numpy에서 하나의 함수를 고르는 것. A.b하면 A에서 b함수를 골라쓸 수 있음. -> np.random.randn = np에서 random 항목의 randn 함수를 쓰는 것. 그리고 괄호 = 함수임을 나타냄"
      ],
      "metadata": {
        "id": "LtdMXbKl97Gf"
      }
    },
    {
      "cell_type": "code",
      "source": [
        "import numpy\n",
        "numpy.random.randn(100)"
      ],
      "metadata": {
        "id": "uzWmHIWT_exG",
        "outputId": "a284c13b-6c00-4575-d7f0-dea055c73ad6",
        "colab": {
          "base_uri": "https://localhost:8080/"
        }
      },
      "execution_count": 2,
      "outputs": [
        {
          "output_type": "execute_result",
          "data": {
            "text/plain": [
              "array([ 0.30870136, -0.37606707, -1.71600011, -0.52216614, -0.51001135,\n",
              "        1.04132209,  0.1853185 , -0.96323402,  0.44945351, -0.75273214,\n",
              "        1.29097159,  1.33745067,  1.14766418,  1.10721332,  0.01712488,\n",
              "        0.23195652,  0.52927733, -0.04384725,  0.08395462, -0.52107057,\n",
              "        1.36807058, -0.41523946, -1.83647077,  0.76177808, -2.14383605,\n",
              "        0.43724243,  0.69160495, -0.13538819,  0.40817555,  0.31281108,\n",
              "       -0.53703678,  0.46019859, -0.07143114, -0.15990201,  1.01383743,\n",
              "       -0.34744425, -1.66030433, -1.24276821, -0.0111668 , -0.21143846,\n",
              "        1.6676094 ,  0.38401554,  0.115713  , -0.77932148,  0.47258874,\n",
              "        0.52346125, -0.67873316,  0.71943504,  0.53251122, -0.49673436,\n",
              "       -0.83699756,  1.41596705,  0.52182921,  0.62169841, -0.35317725,\n",
              "       -0.8999606 ,  1.46961463, -0.73229799,  0.33176696, -0.13630224,\n",
              "       -0.16334018, -0.83643116, -1.51485756, -0.3776337 ,  1.68584193,\n",
              "        0.1017244 , -0.20400167, -1.13312835,  0.1586688 , -0.67928556,\n",
              "       -0.44953064, -0.80913409,  0.28562996, -2.09621249,  2.01911443,\n",
              "        0.16706216,  0.75257557, -0.7508187 ,  0.08896803, -0.71479883,\n",
              "       -1.09462652, -0.4410448 ,  1.10716754, -1.22536362,  0.97925098,\n",
              "        0.2182618 ,  0.05482373,  0.86133936,  1.10078293, -0.9584814 ,\n",
              "       -0.05296742,  0.86966664,  0.48071142,  0.81830774, -2.32867656,\n",
              "       -0.90235006,  0.32558011,  0.23360461,  0.81585519, -0.2276874 ])"
            ]
          },
          "metadata": {},
          "execution_count": 2
        }
      ]
    },
    {
      "cell_type": "markdown",
      "source": [
        "100개의 숫자는 1차원의 숫자임. (5,3)이라고 하면 블록으로 숫자를 세움. (2, 3, 5)로 하면 대괄호로 나옴."
      ],
      "metadata": {
        "id": "YV9wLNkTA0Jb"
      }
    },
    {
      "cell_type": "code",
      "source": [
        "import numpy as np\n",
        "np.random.randn(2,3)"
      ],
      "metadata": {
        "id": "pqVHvfZlBCEO",
        "outputId": "04a40106-0cc3-4cdf-a303-9924aa6717f5",
        "colab": {
          "base_uri": "https://localhost:8080/"
        }
      },
      "execution_count": 3,
      "outputs": [
        {
          "output_type": "execute_result",
          "data": {
            "text/plain": [
              "array([[ 3.06996338, -0.17344224,  0.1622115 ],\n",
              "       [-0.09363029, -0.16985845,  1.07148367]])"
            ]
          },
          "metadata": {},
          "execution_count": 3
        }
      ]
    },
    {
      "cell_type": "markdown",
      "source": [
        "3x5 짜리가 x2. 3차원적 입체. 대괄호 개수를 보면 차원이 보임. 제일 안쪽의 괄호 안에 숫자가 5개, 두 번째 괄호를 보면 5개 들은 항이 3개, 마지막 괄호를 보면 항목이 2개"
      ],
      "metadata": {
        "id": "CgszBqAOBUF3"
      }
    },
    {
      "cell_type": "code",
      "source": [
        "import numpy as np\n",
        "np.random.randn(2,3,5)"
      ],
      "metadata": {
        "id": "fgXZmygYBMHV",
        "outputId": "d2b51d5c-2cdb-4e66-a035-9c1a1b9399f7",
        "colab": {
          "base_uri": "https://localhost:8080/"
        }
      },
      "execution_count": 4,
      "outputs": [
        {
          "output_type": "execute_result",
          "data": {
            "text/plain": [
              "array([[[ 0.69790904, -1.08456906,  0.71982368,  0.49297288,\n",
              "         -0.65108699],\n",
              "        [-0.85561882, -0.975948  , -0.06058137, -0.74295944,\n",
              "          0.55796685],\n",
              "        [ 0.07614889, -0.97275411, -2.25051693, -1.14297233,\n",
              "          1.50133418]],\n",
              "\n",
              "       [[-0.00427498, -0.14652079, -0.24497853, -1.1629739 ,\n",
              "          0.00436096],\n",
              "        [ 0.21215782, -0.50599722,  1.45489857, -1.95464966,\n",
              "          1.17010376],\n",
              "        [-1.4163086 ,  0.44753652, -0.53017116, -1.117291  ,\n",
              "          0.22314189]]])"
            ]
          },
          "metadata": {},
          "execution_count": 4
        }
      ]
    },
    {
      "cell_type": "code",
      "metadata": {
        "id": "JXicrkYOzPRo"
      },
      "source": [
        "import numpy as np\n",
        "n = np.random.randn(100)"
      ],
      "execution_count": 7,
      "outputs": []
    },
    {
      "cell_type": "code",
      "metadata": {
        "id": "oKT4vn4MwyLA",
        "colab": {
          "base_uri": "https://localhost:8080/",
          "height": 521
        },
        "outputId": "5016be4e-f457-4840-ce66-b298edff3759"
      },
      "source": [
        "import matplotlib\n",
        "matplotlib.pyplot.hist(n)"
      ],
      "execution_count": 8,
      "outputs": [
        {
          "output_type": "execute_result",
          "data": {
            "text/plain": [
              "(array([ 3.,  5.,  7.,  7., 18., 21., 19., 10.,  9.,  1.]),\n",
              " array([-2.71111447, -2.23319438, -1.7552743 , -1.27735422, -0.79943414,\n",
              "        -0.32151405,  0.15640603,  0.63432611,  1.1122462 ,  1.59016628,\n",
              "         2.06808636]),\n",
              " <BarContainer object of 10 artists>)"
            ]
          },
          "metadata": {},
          "execution_count": 8
        },
        {
          "output_type": "display_data",
          "data": {
            "text/plain": [
              "<Figure size 640x480 with 1 Axes>"
            ],
            "image/png": "[encoded data removed]"
          },
          "metadata": {}
        }
      ]
    },
    {
      "cell_type": "markdown",
      "source": [
        "matplotlib: matplot에서 왔음. 그래프화 시켜주는... matlab의 plot과 같은 library\n",
        "/ import matplotlib as mp 정도로 줄일 수 있음. hist 함수를 쓰겠다는 것\n",
        "/ 히스토그램은 시각화에 매우 중요한 것. / bin: 조그마한 바구니. 똑같은 간격으로 바구니를 두고 데이터를 던지면 해당되는 바구니에 개수만 넣어주는 것. / 히스토그램은 빈 사이즈를 조절할 수 있음. 디폴트는 10"
      ],
      "metadata": {
        "id": "iOFYUvj6B0et"
      }
    },
    {
      "cell_type": "code",
      "source": [
        "import matplotlib\n",
        "matplotlib.pyplot.hist(n, bins=50)"
      ],
      "metadata": {
        "id": "UsuyqvICC1lr",
        "outputId": "e1d4914b-1f35-410e-bba0-994517836d6d",
        "colab": {
          "base_uri": "https://localhost:8080/",
          "height": 702
        }
      },
      "execution_count": 9,
      "outputs": [
        {
          "output_type": "execute_result",
          "data": {
            "text/plain": [
              "(array([1., 1., 1., 0., 0., 0., 0., 1., 2., 2., 0., 0., 0., 4., 3., 5., 0.,\n",
              "        1., 0., 1., 2., 2., 4., 5., 5., 3., 5., 5., 6., 2., 2., 5., 3., 4.,\n",
              "        5., 3., 0., 3., 3., 1., 3., 1., 1., 2., 2., 0., 0., 0., 0., 1.]),\n",
              " array([-2.71111447, -2.61553045, -2.51994643, -2.42436242, -2.3287784 ,\n",
              "        -2.23319438, -2.13761037, -2.04202635, -1.94644233, -1.85085832,\n",
              "        -1.7552743 , -1.65969029, -1.56410627, -1.46852225, -1.37293824,\n",
              "        -1.27735422, -1.1817702 , -1.08618619, -0.99060217, -0.89501815,\n",
              "        -0.79943414, -0.70385012, -0.6082661 , -0.51268209, -0.41709807,\n",
              "        -0.32151405, -0.22593004, -0.13034602, -0.034762  ,  0.06082201,\n",
              "         0.15640603,  0.25199005,  0.34757406,  0.44315808,  0.5387421 ,\n",
              "         0.63432611,  0.72991013,  0.82549415,  0.92107816,  1.01666218,\n",
              "         1.1122462 ,  1.20783021,  1.30341423,  1.39899825,  1.49458226,\n",
              "         1.59016628,  1.6857503 ,  1.78133431,  1.87691833,  1.97250235,\n",
              "         2.06808636]),\n",
              " <BarContainer object of 50 artists>)"
            ]
          },
          "metadata": {},
          "execution_count": 9
        },
        {
          "output_type": "display_data",
          "data": {
            "text/plain": [
              "<Figure size 640x480 with 1 Axes>"
            ],
            "image/png": "[encoded data removed]"
          },
          "metadata": {}
        }
      ]
    },
    {
      "cell_type": "markdown",
      "source": [
        "표본 숫자가 커질 수록 정규분포에 다다름."
      ],
      "metadata": {
        "id": "dtn1w7EyDBcZ"
      }
    },
    {
      "cell_type": "code",
      "source": [
        "import numpy as np\n",
        "n = np.random.randn(10000)"
      ],
      "metadata": {
        "id": "dilTkFitDF-f"
      },
      "execution_count": 10,
      "outputs": []
    },
    {
      "cell_type": "code",
      "source": [
        "import matplotlib\n",
        "matplotlib.pyplot.hist(n, bins=50)"
      ],
      "metadata": {
        "id": "25Hh9hoJDHx8",
        "outputId": "e833fd28-0a6b-4678-d247-0dc41a578178",
        "colab": {
          "base_uri": "https://localhost:8080/",
          "height": 739
        }
      },
      "execution_count": 11,
      "outputs": [
        {
          "output_type": "execute_result",
          "data": {
            "text/plain": [
              "(array([  1.,   1.,   1.,   0.,   5.,   7.,   7.,  15.,  23.,  28.,  48.,\n",
              "         61.,  64.,  95., 121., 142., 228., 272., 310., 403., 445., 494.,\n",
              "        529., 562., 595., 623., 590., 585., 591., 589., 475., 405., 382.,\n",
              "        284., 261., 194., 132., 122.,  92.,  68.,  54.,  42.,  10.,  22.,\n",
              "         10.,   2.,   5.,   3.,   0.,   2.]),\n",
              " array([-3.99864337, -3.84420383, -3.6897643 , -3.53532477, -3.38088523,\n",
              "        -3.2264457 , -3.07200617, -2.91756664, -2.7631271 , -2.60868757,\n",
              "        -2.45424804, -2.29980851, -2.14536897, -1.99092944, -1.83648991,\n",
              "        -1.68205037, -1.52761084, -1.37317131, -1.21873178, -1.06429224,\n",
              "        -0.90985271, -0.75541318, -0.60097364, -0.44653411, -0.29209458,\n",
              "        -0.13765505,  0.01678449,  0.17122402,  0.32566355,  0.48010308,\n",
              "         0.63454262,  0.78898215,  0.94342168,  1.09786122,  1.25230075,\n",
              "         1.40674028,  1.56117981,  1.71561935,  1.87005888,  2.02449841,\n",
              "         2.17893795,  2.33337748,  2.48781701,  2.64225654,  2.79669608,\n",
              "         2.95113561,  3.10557514,  3.26001467,  3.41445421,  3.56889374,\n",
              "         3.72333327]),\n",
              " <BarContainer object of 50 artists>)"
            ]
          },
          "metadata": {},
          "execution_count": 11
        },
        {
          "output_type": "display_data",
          "data": {
            "text/plain": [
              "<Figure size 640x480 with 1 Axes>"
            ],
            "image/png": "[encoded data removed]"
          },
          "metadata": {}
        }
      ]
    },
    {
      "cell_type": "markdown",
      "source": [
        "standard diviation 1 = 67 정도? 이게뭔개소리야...\n",
        "import.matplotlib.pyplot으로 써도 똑같음. hist까지 안 써도 되지만 대신 matplot을 써야 함"
      ],
      "metadata": {
        "id": "BjmdEo1uDRJp"
      }
    },
    {
      "cell_type": "code",
      "metadata": {
        "colab": {
          "base_uri": "https://localhost:8080/",
          "height": 521
        },
        "id": "zQJ4LnbA-Hvz",
        "outputId": "da470dbb-089d-4dc6-f24c-7b5556f348cb"
      },
      "source": [
        "import matplotlib.pyplot\n",
        "matplotlib.pyplot.hist(n)"
      ],
      "execution_count": 6,
      "outputs": [
        {
          "output_type": "execute_result",
          "data": {
            "text/plain": [
              "(array([ 1.,  3.,  8.,  8., 19., 22., 16., 10., 10.,  3.]),\n",
              " array([-2.30406106, -1.87868228, -1.45330349, -1.02792471, -0.60254592,\n",
              "        -0.17716714,  0.24821165,  0.67359043,  1.09896922,  1.524348  ,\n",
              "         1.94972678]),\n",
              " <BarContainer object of 10 artists>)"
            ]
          },
          "metadata": {},
          "execution_count": 6
        },
        {
          "output_type": "display_data",
          "data": {
            "text/plain": [
              "<Figure size 640x480 with 1 Axes>"
            ],
            "image/png": "[encoded data removed]"
          },
          "metadata": {}
        }
      ]
    },
    {
      "cell_type": "markdown",
      "source": [
        "as plt로 줄여줘도 편하다."
      ],
      "metadata": {
        "id": "MAGffWbjD1rT"
      }
    },
    {
      "cell_type": "code",
      "metadata": {
        "id": "AWU6awi53c07",
        "outputId": "9b49fb47-6bac-4887-8815-e5ed130f6c56",
        "colab": {
          "base_uri": "https://localhost:8080/",
          "height": 350
        }
      },
      "source": [
        "import matplotlib.pyplot as plt\n",
        "plt.hist(n)"
      ],
      "execution_count": null,
      "outputs": [
        {
          "output_type": "execute_result",
          "data": {
            "text/plain": [
              "(array([ 4.,  4.,  4.,  8., 19., 21., 16., 13.,  6.,  5.]),\n",
              " array([-2.54804234, -2.0585933 , -1.56914426, -1.07969522, -0.59024618,\n",
              "        -0.10079714,  0.3886519 ,  0.87810094,  1.36754998,  1.85699902,\n",
              "         2.34644806]),\n",
              " <a list of 10 Patch objects>)"
            ]
          },
          "metadata": {},
          "execution_count": 5
        },
        {
          "output_type": "display_data",
          "data": {
            "image/png": "[encoded data removed]",
            "text/plain": [
              "<Figure size 432x288 with 1 Axes>"
            ]
          },
          "metadata": {
            "needs_background": "light"
          }
        }
      ]
    },
    {
      "cell_type": "markdown",
      "source": [
        "## from import를 쓰면 import as처럼 축약해서 부를 수 있는 효과"
      ],
      "metadata": {
        "id": "v1zA2xRWzpdu"
      }
    },
    {
      "cell_type": "code",
      "metadata": {
        "colab": {
          "base_uri": "https://localhost:8080/",
          "height": 350
        },
        "id": "moIjn3Kv-Hqy",
        "outputId": "4b1e3880-1576-4b63-b4d0-192704221a8d"
      },
      "source": [
        "from matplotlib import pyplot\n",
        "pyplot.hist(n)"
      ],
      "execution_count": null,
      "outputs": [
        {
          "output_type": "execute_result",
          "data": {
            "text/plain": [
              "(array([ 3.,  4.,  9., 11., 26., 19., 16., 10.,  1.,  1.]),\n",
              " array([-2.51307585, -1.99199295, -1.47091005, -0.94982715, -0.42874425,\n",
              "         0.09233865,  0.61342155,  1.13450445,  1.65558734,  2.17667024,\n",
              "         2.69775314]),\n",
              " <a list of 10 Patch objects>)"
            ]
          },
          "metadata": {},
          "execution_count": 11
        },
        {
          "output_type": "display_data",
          "data": {
            "image/png": "[encoded data removed]",
            "text/plain": [
              "<Figure size 432x288 with 1 Axes>"
            ]
          },
          "metadata": {
            "needs_background": "light"
          }
        }
      ]
    },
    {
      "cell_type": "code",
      "metadata": {
        "colab": {
          "base_uri": "https://localhost:8080/",
          "height": 350
        },
        "id": "ORo259i7_Uqi",
        "outputId": "8faa9ebd-66ff-4f86-e588-f114023e649d"
      },
      "source": [
        "from matplotlib.pyplot import hist\n",
        "hist(n)"
      ],
      "execution_count": null,
      "outputs": [
        {
          "output_type": "execute_result",
          "data": {
            "text/plain": [
              "(array([ 3.,  4.,  9., 11., 26., 19., 16., 10.,  1.,  1.]),\n",
              " array([-2.51307585, -1.99199295, -1.47091005, -0.94982715, -0.42874425,\n",
              "         0.09233865,  0.61342155,  1.13450445,  1.65558734,  2.17667024,\n",
              "         2.69775314]),\n",
              " <a list of 10 Patch objects>)"
            ]
          },
          "metadata": {},
          "execution_count": 14
        },
        {
          "output_type": "display_data",
          "data": {
            "image/png": "[encoded data removed]",
            "text/plain": [
              "<Figure size 432x288 with 1 Axes>"
            ]
          },
          "metadata": {
            "needs_background": "light"
          }
        }
      ]
    }
  ]
}