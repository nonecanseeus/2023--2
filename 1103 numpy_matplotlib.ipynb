{
  "nbformat": 4,
  "nbformat_minor": 0,
  "metadata": {
    "kernelspec": {
      "display_name": "Python 3",
      "language": "python",
      "name": "python3"
    },
    "language_info": {
      "codemirror_mode": {
        "name": "ipython",
        "version": 3
      },
      "file_extension": ".py",
      "mimetype": "text/x-python",
      "name": "python",
      "nbconvert_exporter": "python",
      "pygments_lexer": "ipython3",
      "version": "3.7.1"
    },
    "colab": {
      "name": "numpy_matplotlib.ipynb",
      "provenance": [],
      "include_colab_link": true
    }
  },
  "cells": [
    {
      "cell_type": "markdown",
      "metadata": {
        "id": "view-in-github",
        "colab_type": "text"
      },
      "source": [
        "<a href=\"https://colab.research.google.com/github/nonecanseeus/2023--2/blob/main/1103%20numpy_matplotlib.ipynb\" target=\"_parent\"><img src=\"https://colab.research.google.com/assets/colab-badge.svg\" alt=\"Open In Colab\"/></a>"
      ]
    },
    {
      "cell_type": "markdown",
      "metadata": {
        "id": "JcCdLoe_4bY7"
      },
      "source": [
        "### create nd arrays (≈matrices)"
      ]
    },
    {
      "cell_type": "code",
      "metadata": {
        "id": "5ap7xyofShBB"
      },
      "source": [
        "import numpy as np"
      ],
      "execution_count": null,
      "outputs": []
    },
    {
      "cell_type": "markdown",
      "source": [
        "np라는 lib 속에 array라는 함수 -> 괄호 안에 list가 들어있음. array는 리스트를 array로 바꿔준다는 것. list로는 숫자 처리를 할 수 없음"
      ],
      "metadata": {
        "id": "5tJ8xk-qEgpa"
      }
    },
    {
      "cell_type": "code",
      "source": [
        "[1,2] + [3,4]"
      ],
      "metadata": {
        "id": "AwhOVpnsEwfo",
        "outputId": "05f08043-d768-4493-effd-6c8572ba240d",
        "colab": {
          "base_uri": "https://localhost:8080/"
        }
      },
      "execution_count": null,
      "outputs": [
        {
          "output_type": "execute_result",
          "data": {
            "text/plain": [
              "[1, 2, 3, 4]"
            ]
          },
          "metadata": {},
          "execution_count": 2
        }
      ]
    },
    {
      "cell_type": "markdown",
      "source": [
        "따라서 어떻게든 숫자 처리를 하기 위한 형태로 바꾸기 위해 array 작업을 함. 1차원의 array는 한줄짜리, 2차원은 직사각형, 3차원은 직육면체 모양의 숫자\n",
        "/ [1, 2, 3] 은 1차원짜리."
      ],
      "metadata": {
        "id": "3A9KEVTRE3BI"
      }
    },
    {
      "cell_type": "markdown",
      "source": [
        "x = -> 하면 x에 들어간 것. 보이게 하기 위해서 x만 쳐서 실행해도 보임\n",
        "x = np.array([1, 2, 3)]\n",
        "x"
      ],
      "metadata": {
        "id": "zLYPTyl4FOsE"
      }
    },
    {
      "cell_type": "code",
      "metadata": {
        "id": "2rqpSPZCShBC",
        "colab": {
          "base_uri": "https://localhost:8080/"
        },
        "outputId": "4ef7c89a-7ff1-42e9-c96e-342d689ac009"
      },
      "source": [
        "x = np.array([1,2,3])\n",
        "print(x)\n",
        "print(type(x))\n",
        "print(x.shape)"
      ],
      "execution_count": null,
      "outputs": [
        {
          "output_type": "stream",
          "name": "stdout",
          "text": [
            "[1 2 3]\n",
            "<class 'numpy.ndarray'>\n",
            "(3,)\n"
          ]
        }
      ]
    },
    {
      "cell_type": "markdown",
      "source": [
        "type - numpy.ndarray에 해당.\n",
        "x.shape: 차원 정보를 줌. 2,3,5의 직육면제 숫자가 array를 만들었다면 그 shape 을 설명하는 것임\n",
        "arange(에이레인지) a에 해당하는 숫자를 쭉 만들어줌. 0부터 10 되기 전까지(9까지) 2 간격으로 숫자를 만들어라."
      ],
      "metadata": {
        "id": "H-7a3qLjFfAU"
      }
    },
    {
      "cell_type": "code",
      "metadata": {
        "id": "EjC88C75ShBC",
        "colab": {
          "base_uri": "https://localhost:8080/"
        },
        "outputId": "7143e4dd-2864-4b57-855e-56eb92a6bd75"
      },
      "source": [
        "x = np.arange(0,10,2)\n",
        "print(x)\n",
        "print(type(x))\n",
        "print(x.shape)"
      ],
      "execution_count": null,
      "outputs": [
        {
          "output_type": "stream",
          "name": "stdout",
          "text": [
            "[0 2 4 6 8]\n",
            "<class 'numpy.ndarray'>\n",
            "(5,)\n"
          ]
        }
      ]
    },
    {
      "cell_type": "markdown",
      "source": [
        "0과 10을 포함해 여섯 개의 숫자가 등분으로 나누어지게 나누어라."
      ],
      "metadata": {
        "id": "fu-lRv9lGC3n"
      }
    },
    {
      "cell_type": "code",
      "metadata": {
        "id": "-MwkCEjTShBC",
        "colab": {
          "base_uri": "https://localhost:8080/"
        },
        "outputId": "85ccdc1d-75a8-4372-dca8-45ce97a942a9"
      },
      "source": [
        "x = np.linspace(0,10,6)\n",
        "print(x)\n",
        "print(type(x))\n",
        "print(x.shape)"
      ],
      "execution_count": null,
      "outputs": [
        {
          "output_type": "stream",
          "name": "stdout",
          "text": [
            "[ 0.  2.  4.  6.  8. 10.]\n",
            "<class 'numpy.ndarray'>\n",
            "(6,)\n"
          ]
        }
      ]
    },
    {
      "cell_type": "markdown",
      "source": [
        "리스트 셰입\n",
        "2,3 ->\n",
        "ㅇㅇㅇ\n",
        "ㅇㅇㅇ\n",
        "이 형태임\n"
      ],
      "metadata": {
        "id": "7VedA2tXGUyt"
      }
    },
    {
      "cell_type": "code",
      "metadata": {
        "id": "tjk79SQ27fNv",
        "colab": {
          "base_uri": "https://localhost:8080/"
        },
        "outputId": "e7f657ae-a75a-43cf-feab-ce4a6b50f006"
      },
      "source": [
        "x = np.array([[1,2,3], [4,5,6]])\n",
        "print(x)\n",
        "print(type(x))\n",
        "print(x.shape)"
      ],
      "execution_count": null,
      "outputs": [
        {
          "output_type": "stream",
          "name": "stdout",
          "text": [
            "[[1 2 3]\n",
            " [4 5 6]]\n",
            "<class 'numpy.ndarray'>\n",
            "(2, 3)\n"
          ]
        }
      ]
    },
    {
      "cell_type": "code",
      "metadata": {
        "id": "C1ogg6iZ7yir",
        "colab": {
          "base_uri": "https://localhost:8080/"
        },
        "outputId": "baf27f4e-10a7-40bb-82f4-bf470d8de90c"
      },
      "source": [
        "x = np.array([[[1,2,3], [4,5,6]], [[7,8,9], [10,11,12]]])\n",
        "print(x)\n",
        "print(type(x))\n",
        "print(x.shape)"
      ],
      "execution_count": null,
      "outputs": [
        {
          "output_type": "stream",
          "name": "stdout",
          "text": [
            "[[[ 1  2  3]\n",
            "  [ 4  5  6]]\n",
            "\n",
            " [[ 7  8  9]\n",
            "  [10 11 12]]]\n",
            "<class 'numpy.ndarray'>\n",
            "(2, 2, 3)\n"
          ]
        }
      ]
    },
    {
      "cell_type": "markdown",
      "source": [
        "ones -> 1이라는 숫자로 [2, 2, 3]의 차원으로 만들어줌.\n",
        "zeros -> 0으로 만들어줌"
      ],
      "metadata": {
        "id": "iwBKVZXsG24d"
      }
    },
    {
      "cell_type": "code",
      "metadata": {
        "id": "efgeNHtD8ZlT",
        "colab": {
          "base_uri": "https://localhost:8080/"
        },
        "outputId": "0c070598-8f00-4a46-b588-f7758bbffc81"
      },
      "source": [
        "x = np.ones([2, 2, 3])\n",
        "print(x)\n",
        "print(type(x))\n",
        "print(x.shape)"
      ],
      "execution_count": null,
      "outputs": [
        {
          "output_type": "stream",
          "name": "stdout",
          "text": [
            "[[[1. 1. 1.]\n",
            "  [1. 1. 1.]]\n",
            "\n",
            " [[1. 1. 1.]\n",
            "  [1. 1. 1.]]]\n",
            "<class 'numpy.ndarray'>\n",
            "(2, 2, 3)\n"
          ]
        }
      ]
    },
    {
      "cell_type": "code",
      "metadata": {
        "id": "b_F-ccY08zzl",
        "colab": {
          "base_uri": "https://localhost:8080/"
        },
        "outputId": "d56dd759-bbd1-48d5-d208-4a2084fe1cec"
      },
      "source": [
        "x = np.zeros([2, 2, 3])\n",
        "print(x)\n",
        "print(type(x))\n",
        "print(x.shape)\n",
        "x.reshape(3,2,2)"
      ],
      "execution_count": null,
      "outputs": [
        {
          "output_type": "stream",
          "name": "stdout",
          "text": [
            "[[[0. 0. 0.]\n",
            "  [0. 0. 0.]]\n",
            "\n",
            " [[0. 0. 0.]\n",
            "  [0. 0. 0.]]]\n",
            "<class 'numpy.ndarray'>\n",
            "(2, 2, 3)\n"
          ]
        },
        {
          "output_type": "execute_result",
          "data": {
            "text/plain": [
              "array([[[0., 0.],\n",
              "        [0., 0.]],\n",
              "\n",
              "       [[0., 0.],\n",
              "        [0., 0.]],\n",
              "\n",
              "       [[0., 0.],\n",
              "        [0., 0.]]])"
            ]
          },
          "metadata": {},
          "execution_count": 27
        }
      ]
    },
    {
      "cell_type": "markdown",
      "metadata": {
        "id": "0hQuDJ5g9gpE"
      },
      "source": [
        "### create random numbers"
      ]
    },
    {
      "cell_type": "markdown",
      "source": [
        "normal 0이 평균, 1은 뭐냐... 여튼 이걸 2, 3, 4의 형태로 만들어주는 것."
      ],
      "metadata": {
        "id": "7XmkC6fHHAvZ"
      }
    },
    {
      "cell_type": "code",
      "source": [
        "np.random.normal(0, 1, [2,3,4])"
      ],
      "metadata": {
        "id": "pCVnElBgan70",
        "outputId": "b06de733-6380-4b28-870b-61ddb453ad8a",
        "colab": {
          "base_uri": "https://localhost:8080/"
        }
      },
      "execution_count": null,
      "outputs": [
        {
          "output_type": "execute_result",
          "data": {
            "text/plain": [
              "array([[[ 0.28610219, -0.7264868 , -0.50719279,  1.04473795],\n",
              "        [-2.6269445 ,  0.80373735, -3.94639222, -0.11259909],\n",
              "        [-0.271832  , -1.03545502, -0.11481238, -0.80041025]],\n",
              "\n",
              "       [[-0.94959226,  1.11390672, -0.47629241, -1.43499953],\n",
              "        [ 1.01427831,  0.93052177, -0.51619177,  1.99354224],\n",
              "        [-0.68265827,  0.97492243, -0.33173391,  0.0293543 ]]])"
            ]
          },
          "metadata": {},
          "execution_count": 5
        }
      ]
    },
    {
      "cell_type": "code",
      "metadata": {
        "id": "QRatmkx79otL"
      },
      "source": [
        "import matplotlib.pyplot as plt"
      ],
      "execution_count": null,
      "outputs": []
    },
    {
      "cell_type": "code",
      "metadata": {
        "id": "z1oOAB6dShBD",
        "colab": {
          "base_uri": "https://localhost:8080/",
          "height": 975
        },
        "outputId": "6b533097-8111-48ce-f0be-8287b620d555"
      },
      "source": [
        "x = np.random.normal(0, 1, 100)\n",
        "print(x)\n",
        "plt.hist(x, bins=10)"
      ],
      "execution_count": null,
      "outputs": [
        {
          "output_type": "stream",
          "name": "stdout",
          "text": [
            "[-6.57503298e-01  1.58006420e+00  3.75682482e-01 -4.14800423e-03\n",
            " -5.27700907e-01 -2.31936902e+00 -4.13577804e-01  1.44449070e+00\n",
            " -9.06059925e-01 -9.07723368e-01  4.14704837e-01 -6.29942520e-01\n",
            " -2.00633997e+00 -2.77644895e-01  2.31000685e-01 -8.62392892e-03\n",
            " -1.25127229e+00  7.45555417e-01 -6.60319217e-01 -3.60032169e-01\n",
            "  3.61380081e-01  1.75283254e+00  5.85676853e-02  1.72679210e+00\n",
            " -1.01937156e+00  1.09754260e+00 -5.65890501e-01 -2.25404367e+00\n",
            " -1.67483765e-01  5.56828080e-01 -8.71749001e-02  8.86236324e-01\n",
            " -9.73535940e-02  9.25381622e-01 -1.71844585e-01 -8.92664716e-01\n",
            "  1.70648717e-01 -2.48711631e-01 -1.12811103e+00  8.18128909e-01\n",
            "  5.20896269e-01  5.01195292e-01  1.19385925e-01 -1.54389600e+00\n",
            "  1.18717840e+00 -6.03695460e-01 -2.57718476e-01  1.50703433e+00\n",
            " -9.33101655e-01 -1.00898412e-01  9.04903132e-01  5.95194126e-01\n",
            " -2.30529730e-01 -5.49089265e-01 -1.34508975e+00 -3.50923938e-01\n",
            " -4.17877871e-01 -1.23751243e+00  1.00365124e+00  2.54401244e+00\n",
            " -1.16047795e+00 -1.28020668e-03 -6.54836420e-01  4.01602690e-01\n",
            "  2.03566004e+00  1.60671957e+00  3.63009449e-01 -4.79155125e-01\n",
            "  3.36397282e-01 -4.80211734e-01  3.00966492e-01 -8.61644546e-01\n",
            "  5.18172820e-01  1.11461344e+00  2.35498961e+00 -2.20031607e+00\n",
            " -8.09136115e-01 -4.31405957e-01 -1.17635653e+00 -1.99864353e+00\n",
            "  6.03149698e-01  5.51236346e-01 -9.78082440e-01 -1.17614359e+00\n",
            " -7.24607372e-01  5.11673722e-01  1.52679766e+00 -8.05353344e-02\n",
            "  4.03622877e-01 -9.37010882e-01  5.62745873e-01  9.05929689e-01\n",
            "  9.21866703e-01 -3.20927201e-01 -2.57935316e+00 -1.04813858e+00\n",
            " -3.62025464e-01  8.47362946e-01  1.78726673e+00 -2.01358669e-01]\n"
          ]
        },
        {
          "output_type": "execute_result",
          "data": {
            "text/plain": [
              "(array([ 4.,  2.,  9., 17., 21., 15., 18.,  5.,  6.,  3.]),\n",
              " array([-2.57935316, -2.0670166 , -1.55468004, -1.04234348, -0.53000692,\n",
              "        -0.01767036,  0.4946662 ,  1.00700276,  1.51933932,  2.03167588,\n",
              "         2.54401244]),\n",
              " <BarContainer object of 10 artists>)"
            ]
          },
          "metadata": {},
          "execution_count": 8
        },
        {
          "output_type": "display_data",
          "data": {
            "text/plain": [
              "<Figure size 640x480 with 1 Axes>"
            ],
            "image/png": "[encoded data removed]"
          },
          "metadata": {}
        }
      ]
    },
    {
      "cell_type": "markdown",
      "metadata": {
        "id": "G0exvwBbShBE"
      },
      "source": [
        "### generate a sine curve"
      ]
    },
    {
      "cell_type": "markdown",
      "source": [
        "linspace -> 숫자를 촘촘히 만들어줌. 결과적으로 숫자들을 전부 나타내기 위함.\n",
        "x에 대항하는 숫자를 x값으로 만듦.\\\n",
        "np.pi 하면 pi라는 값을 가져옴. np에는 다 함수들이 들어가지만 함수가 아닌 것도 있음. 파이라는 값을 불러온 것임. '/ linspace는 0부터 2파이까지, 앞뒤 포함 총 100개의 숫자를 균일한 간격으로 만들어라. \\\n",
        "np.sin- 사인함수.\n",
        "theta1과 s1의 개수는 같다 -> 맞음. 100개의 숫자를 sin을 통과시키면 sin도 100개. **(시험문제)** \\\n",
        "-> ploting 할 수 있음. plt.plot = x값을 다 넣고 y에 해당되는 값도 다 넣고 점으로 찍으라고 하면 밑의 그림처럼 나옴. 두개를 넣는 이유는 페어 숫자가 있어야 점을 찍을 수 있음(2차원) 대응하는 sin값 알아야 함.\\\n",
        "subplot도 배치를 자유롭게 가능. 두 줄로 하고 칼럼을 세 개 하고 싶다고 해서 하면 ㅁㅁㅁ/ㅁㅁㅁ - 2행 1열로 layout할 것이고 첫번째 것에다 가하라는 것이 자기 맨 처음 얼굴?(이건 왜 적은 거지 뭐라고 적으려고 했던 거지)"
      ],
      "metadata": {
        "id": "JH-SQ2SrHZvk"
      }
    },
    {
      "cell_type": "code",
      "metadata": {
        "id": "HgQmRXzMShBE",
        "colab": {
          "base_uri": "https://localhost:8080/",
          "height": 282
        },
        "outputId": "a266cc4f-3373-43c7-d8a8-3290c8bf4248"
      },
      "source": [
        "plt.figure()\n",
        "\n",
        "theta1 = np.linspace(0, 2*np.pi, 100)\n",
        "s1 = np.sin(theta1)\n",
        "theta2 = np.linspace(0, 2*np.pi, 100) + np.pi/2\n",
        "s2 = np.sin(theta2)\n",
        "\n",
        "plt.subplot(2, 1, 1) # (rows, columns, panel number)\n",
        "plt.plot(theta1, s1, '.')\n",
        "plt.subplot(2, 1, 2) # (rows, columns, panel number)\n",
        "plt.plot(theta2, s2, '.')"
      ],
      "execution_count": null,
      "outputs": [
        {
          "output_type": "execute_result",
          "data": {
            "text/plain": [
              "[<matplotlib.lines.Line2D at 0x7f3b55111d90>]"
            ]
          },
          "metadata": {},
          "execution_count": 8
        },
        {
          "output_type": "display_data",
          "data": {
            "text/plain": [
              "<Figure size 432x288 with 2 Axes>"
            ],
            "image/png": "[encoded data removed]"
          },
          "metadata": {
            "needs_background": "light"
          }
        }
      ]
    },
    {
      "cell_type": "markdown",
      "source": [
        "corrcoef = 상관관계를 보여줌.\n",
        "([1.,1.],\n",
        "[1., 1.]) -> 1, 4번은 나 자신이고 2, 3을 봐야 함."
      ],
      "metadata": {
        "id": "dMN-57dYKWaY"
      }
    },
    {
      "cell_type": "code",
      "source": [
        "plt.figure()\n",
        "\n",
        "theta1 = np.linspace(0, 2*np.pi, 100)\n",
        "s1 = np.sin(theta1)\n",
        "theta2 = np.linspace(0, 2*np.pi, 100) + np.pi/100\n",
        "s2 = np.sin(theta2)\n",
        "\n",
        "plt.subplot(2, 1, 1) # (rows, columns, panel number)\n",
        "plt.plot(theta1, s1, '.')\n",
        "plt.subplot(2, 1, 2) # (rows, columns, panel number)\n",
        "plt.plot(theta2, s2, '.')"
      ],
      "metadata": {
        "id": "RRbDpp0SKlTp",
        "outputId": "e398db91-3bc3-41c4-c634-e2b0281b4765",
        "colab": {
          "base_uri": "https://localhost:8080/",
          "height": 448
        }
      },
      "execution_count": null,
      "outputs": [
        {
          "output_type": "execute_result",
          "data": {
            "text/plain": [
              "[<matplotlib.lines.Line2D at 0x7e988c715630>]"
            ]
          },
          "metadata": {},
          "execution_count": 9
        },
        {
          "output_type": "display_data",
          "data": {
            "text/plain": [
              "<Figure size 640x480 with 2 Axes>"
            ],
            "image/png": "[encoded data removed]"
          },
          "metadata": {}
        }
      ]
    },
    {
      "cell_type": "markdown",
      "source": [
        "1보다 조금 작아진 숫자. 1이 상관관계가 가장 높은 것이고 0이 상관관계가 하나도 없는 것. 같은 사인 곡선에서도 shift가 얼만큼 되느냐에 따라서 상관관계가 달라짐. 1/10 < 분모가 작아질수록 corrcoef 숫자도 줄어듦."
      ],
      "metadata": {
        "id": "rbRUDKErKte3"
      }
    },
    {
      "cell_type": "code",
      "metadata": {
        "id": "TuH489v9BvQ7",
        "colab": {
          "base_uri": "https://localhost:8080/"
        },
        "outputId": "72a477b6-8cc7-422a-fdfe-8f964ce230dd"
      },
      "source": [
        "np.corrcoef(s1,s2)"
      ],
      "execution_count": null,
      "outputs": [
        {
          "output_type": "execute_result",
          "data": {
            "text/plain": [
              "array([[1.       , 0.9994967],\n",
              "       [0.9994967, 1.       ]])"
            ]
          },
          "metadata": {},
          "execution_count": 10
        }
      ]
    },
    {
      "cell_type": "code",
      "source": [
        "plt.figure()\n",
        "\n",
        "theta1 = np.linspace(0, 2*np.pi, 100)\n",
        "s1 = np.sin(theta1)\n",
        "theta2 = np.linspace(0, 2*np.pi, 100) + np.pi/2\n",
        "s2 = np.sin(theta2)\n",
        "\n",
        "plt.subplot(2, 1, 1) # (rows, columns, panel number)\n",
        "plt.plot(theta1, s1, '.')\n",
        "plt.subplot(2, 1, 2) # (rows, columns, panel number)\n",
        "plt.plot(theta2, s2, '.')"
      ],
      "metadata": {
        "id": "ExeIusQoLGzq",
        "outputId": "1fc7b855-09a7-4046-c58f-a7fcfec5c0bf",
        "colab": {
          "base_uri": "https://localhost:8080/",
          "height": 448
        }
      },
      "execution_count": null,
      "outputs": [
        {
          "output_type": "execute_result",
          "data": {
            "text/plain": [
              "[<matplotlib.lines.Line2D at 0x7e988c7f3820>]"
            ]
          },
          "metadata": {},
          "execution_count": 11
        },
        {
          "output_type": "display_data",
          "data": {
            "text/plain": [
              "<Figure size 640x480 with 2 Axes>"
            ],
            "image/png": "[encoded data removed]"
          },
          "metadata": {}
        }
      ]
    },
    {
      "cell_type": "code",
      "source": [
        "np.corrcoef(s1,s2)"
      ],
      "metadata": {
        "id": "9yQVO9dgLI9S",
        "outputId": "50e707ea-140e-45f0-cd30-d73b36f1a064",
        "colab": {
          "base_uri": "https://localhost:8080/"
        }
      },
      "execution_count": null,
      "outputs": [
        {
          "output_type": "execute_result",
          "data": {
            "text/plain": [
              "array([[1.00000000e+00, 2.41915449e-17],\n",
              "       [2.41915449e-17, 1.00000000e+00]])"
            ]
          },
          "metadata": {},
          "execution_count": 12
        }
      ]
    },
    {
      "cell_type": "markdown",
      "source": [
        "e-17은 0이라는 뜻. 같은 사인 곡선을 90도 움직이면 correlation이 0이 나온다(서로 상관이 하나도 없다는 이야기임)"
      ],
      "metadata": {
        "id": "2smVmsf6LLgF"
      }
    },
    {
      "cell_type": "markdown",
      "source": [
        "두 벡터가 있을 때 (0,1) (1,0) -> 둘이 이루는 각도 90도 -> cos(세타) = corrcoef (코사인을 붙이면 correlation 값이 나온다) 각도가 90도에 가까워짐 = 코사인값이 0에 가까워진다.\\\n",
        "벡터의 90도와 사인 곡선에 시트된 90도가 동일함(다른 것인데 동일한 게 신기한 부분임) \\\n",
        "cos(파이/2) = 0 \\\n",
        "-1에 가까워지면 음의 correlation을 갖는 것임. 두 벡터가 이루는 각도의 느낌 각도와 코사인의 값, correlation과의 관계, 사인 곡선 모두 한꺼번에 들어가있어야 함"
      ],
      "metadata": {
        "id": "i4f5uzZqMJfU"
      }
    },
    {
      "cell_type": "markdown",
      "source": [],
      "metadata": {
        "id": "3fghBBw2MJbi"
      }
    },
    {
      "cell_type": "code",
      "source": [
        "plt.figure()\n",
        "\n",
        "theta1 = np.linspace(0, 2*np.pi, 100)\n",
        "s1 = np.sin(theta1)\n",
        "theta2 = np.linspace(0, 2*np.pi, 100) + np.pi/2\n",
        "s2 = np.sin(theta2)\n",
        "\n",
        "plt.subplot(2, 1, 1) # (rows, columns, panel number)\n",
        "plt.plot(theta1, s1, '.')\n",
        "plt.subplot(2, 1, 2) # (rows, columns, panel number)\n",
        "plt.plot(theta2, s2, '.')"
      ],
      "metadata": {
        "id": "nMqX6q9_Lcto",
        "outputId": "d5077f0a-a970-470d-bb52-b5230110c337",
        "colab": {
          "base_uri": "https://localhost:8080/",
          "height": 448
        }
      },
      "execution_count": null,
      "outputs": [
        {
          "output_type": "execute_result",
          "data": {
            "text/plain": [
              "[<matplotlib.lines.Line2D at 0x7e988c5f8bb0>]"
            ]
          },
          "metadata": {},
          "execution_count": 14
        },
        {
          "output_type": "display_data",
          "data": {
            "text/plain": [
              "<Figure size 640x480 with 2 Axes>"
            ],
            "image/png": "[encoded data removed]"
          },
          "metadata": {}
        }
      ]
    }
  ]
}